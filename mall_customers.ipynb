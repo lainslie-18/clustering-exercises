{
 "cells": [
  {
   "cell_type": "code",
   "execution_count": 2,
   "id": "a68c1310",
   "metadata": {},
   "outputs": [],
   "source": [
    "# imports\n",
    "import pandas as pd\n",
    "import numpy as np\n",
    "import matplotlib.pyplot as plt\n",
    "import seaborn as sns\n",
    "\n",
    "from sklearn.model_selection import train_test_split\n",
    "from sklearn.preprocessing import MinMaxScaler\n",
    "\n",
    "import graphviz\n",
    "from graphviz import Graph\n",
    "\n",
    "import env\n",
    "import wrangle_mall\n",
    "import os\n",
    "\n",
    "# turn off pink boxes for demo\n",
    "import warnings\n",
    "warnings.filterwarnings(\"ignore\")"
   ]
  },
  {
   "cell_type": "markdown",
   "id": "a44442d1",
   "metadata": {},
   "source": [
    "# Notebook Exercise 1\n",
    "\n",
    "Acquire data from mall_customers.customers in mysql database."
   ]
  },
  {
   "cell_type": "code",
   "execution_count": 3,
   "id": "67080e12",
   "metadata": {},
   "outputs": [],
   "source": [
    "# create function to pull in mall customers dataframe\n",
    "def get_connection(db, user=env.user, host=env.host, password=env.password):\n",
    "    '''\n",
    "    This function takes in user credentials from an env.py file and a database name and creates a connection to the Codeup database through a connection string \n",
    "    '''\n",
    "    return f'mysql+pymysql://{user}:{password}@{host}/{db}'\n",
    "    \n",
    "mall_customers_sql_query = '''\n",
    "                    SELECT * FROM customers;\n",
    "                    '''\n",
    "\n",
    "def query_mall_customers_data():\n",
    "    '''\n",
    "    This function uses the get_connection function to connect to the mall customers database and reads the sql query \n",
    "    into a pandas dataframe\n",
    "    '''\n",
    "    return pd.read_sql(mall_customers_sql_query,get_connection('mall_customers'))\n",
    "\n",
    "\n",
    "def get_mall_customers_data():\n",
    "    '''\n",
    "    This function checks for a local mall_customers.csv file and reads it into a pandas dataframe, if it exists. If \n",
    "    not, it uses the get_connection & query_mall_customers_data functions to query the data and write it locally to a \n",
    "    csv file\n",
    "    '''\n",
    "    # If csv file exists locally, read in data from csv file.\n",
    "    if os.path.isfile('mall_customers.csv'):\n",
    "        df = pd.read_csv('mall_customers.csv', index_col=0)\n",
    "        \n",
    "    else:\n",
    "        \n",
    "        # Query and read data from mall_customers database\n",
    "        df = query_mall_customers_data()\n",
    "        \n",
    "        # Cache data\n",
    "        df.to_csv('mall_customers.csv')\n",
    "        \n",
    "    return df"
   ]
  },
  {
   "cell_type": "code",
   "execution_count": 4,
   "id": "197f6b1d",
   "metadata": {},
   "outputs": [
    {
     "data": {
      "text/html": [
       "<div>\n",
       "<style scoped>\n",
       "    .dataframe tbody tr th:only-of-type {\n",
       "        vertical-align: middle;\n",
       "    }\n",
       "\n",
       "    .dataframe tbody tr th {\n",
       "        vertical-align: top;\n",
       "    }\n",
       "\n",
       "    .dataframe thead th {\n",
       "        text-align: right;\n",
       "    }\n",
       "</style>\n",
       "<table border=\"1\" class=\"dataframe\">\n",
       "  <thead>\n",
       "    <tr style=\"text-align: right;\">\n",
       "      <th></th>\n",
       "      <th>customer_id</th>\n",
       "      <th>gender</th>\n",
       "      <th>age</th>\n",
       "      <th>annual_income</th>\n",
       "      <th>spending_score</th>\n",
       "    </tr>\n",
       "  </thead>\n",
       "  <tbody>\n",
       "    <tr>\n",
       "      <th>0</th>\n",
       "      <td>1</td>\n",
       "      <td>Male</td>\n",
       "      <td>19</td>\n",
       "      <td>15</td>\n",
       "      <td>39</td>\n",
       "    </tr>\n",
       "    <tr>\n",
       "      <th>1</th>\n",
       "      <td>2</td>\n",
       "      <td>Male</td>\n",
       "      <td>21</td>\n",
       "      <td>15</td>\n",
       "      <td>81</td>\n",
       "    </tr>\n",
       "    <tr>\n",
       "      <th>2</th>\n",
       "      <td>3</td>\n",
       "      <td>Female</td>\n",
       "      <td>20</td>\n",
       "      <td>16</td>\n",
       "      <td>6</td>\n",
       "    </tr>\n",
       "    <tr>\n",
       "      <th>3</th>\n",
       "      <td>4</td>\n",
       "      <td>Female</td>\n",
       "      <td>23</td>\n",
       "      <td>16</td>\n",
       "      <td>77</td>\n",
       "    </tr>\n",
       "    <tr>\n",
       "      <th>4</th>\n",
       "      <td>5</td>\n",
       "      <td>Female</td>\n",
       "      <td>31</td>\n",
       "      <td>17</td>\n",
       "      <td>40</td>\n",
       "    </tr>\n",
       "  </tbody>\n",
       "</table>\n",
       "</div>"
      ],
      "text/plain": [
       "   customer_id  gender  age  annual_income  spending_score\n",
       "0            1    Male   19             15              39\n",
       "1            2    Male   21             15              81\n",
       "2            3  Female   20             16               6\n",
       "3            4  Female   23             16              77\n",
       "4            5  Female   31             17              40"
      ]
     },
     "execution_count": 4,
     "metadata": {},
     "output_type": "execute_result"
    }
   ],
   "source": [
    "# use function to pull in mall customers dataframe\n",
    "df = get_mall_customers_data()\n",
    "df.head()"
   ]
  },
  {
   "cell_type": "markdown",
   "id": "1c89d860",
   "metadata": {},
   "source": [
    "# Exercise 2\n",
    "\n",
    "Summarize data (include distributions and descriptive statistics)."
   ]
  },
  {
   "cell_type": "code",
   "execution_count": 5,
   "id": "fb30cf2d",
   "metadata": {},
   "outputs": [
    {
     "name": "stdout",
     "output_type": "stream",
     "text": [
      "<class 'pandas.core.frame.DataFrame'>\n",
      "Int64Index: 200 entries, 0 to 199\n",
      "Data columns (total 5 columns):\n",
      " #   Column          Non-Null Count  Dtype \n",
      "---  ------          --------------  ----- \n",
      " 0   customer_id     200 non-null    int64 \n",
      " 1   gender          200 non-null    object\n",
      " 2   age             200 non-null    int64 \n",
      " 3   annual_income   200 non-null    int64 \n",
      " 4   spending_score  200 non-null    int64 \n",
      "dtypes: int64(4), object(1)\n",
      "memory usage: 9.4+ KB\n"
     ]
    }
   ],
   "source": [
    "# check for nulls, datatypes, and columns\n",
    "df.info()"
   ]
  },
  {
   "cell_type": "code",
   "execution_count": 6,
   "id": "d2e29987",
   "metadata": {},
   "outputs": [
    {
     "data": {
      "text/html": [
       "<div>\n",
       "<style scoped>\n",
       "    .dataframe tbody tr th:only-of-type {\n",
       "        vertical-align: middle;\n",
       "    }\n",
       "\n",
       "    .dataframe tbody tr th {\n",
       "        vertical-align: top;\n",
       "    }\n",
       "\n",
       "    .dataframe thead th {\n",
       "        text-align: right;\n",
       "    }\n",
       "</style>\n",
       "<table border=\"1\" class=\"dataframe\">\n",
       "  <thead>\n",
       "    <tr style=\"text-align: right;\">\n",
       "      <th></th>\n",
       "      <th>customer_id</th>\n",
       "      <th>age</th>\n",
       "      <th>annual_income</th>\n",
       "      <th>spending_score</th>\n",
       "    </tr>\n",
       "  </thead>\n",
       "  <tbody>\n",
       "    <tr>\n",
       "      <th>count</th>\n",
       "      <td>200.000000</td>\n",
       "      <td>200.000000</td>\n",
       "      <td>200.000000</td>\n",
       "      <td>200.000000</td>\n",
       "    </tr>\n",
       "    <tr>\n",
       "      <th>mean</th>\n",
       "      <td>100.500000</td>\n",
       "      <td>38.850000</td>\n",
       "      <td>60.560000</td>\n",
       "      <td>50.200000</td>\n",
       "    </tr>\n",
       "    <tr>\n",
       "      <th>std</th>\n",
       "      <td>57.879185</td>\n",
       "      <td>13.969007</td>\n",
       "      <td>26.264721</td>\n",
       "      <td>25.823522</td>\n",
       "    </tr>\n",
       "    <tr>\n",
       "      <th>min</th>\n",
       "      <td>1.000000</td>\n",
       "      <td>18.000000</td>\n",
       "      <td>15.000000</td>\n",
       "      <td>1.000000</td>\n",
       "    </tr>\n",
       "    <tr>\n",
       "      <th>25%</th>\n",
       "      <td>50.750000</td>\n",
       "      <td>28.750000</td>\n",
       "      <td>41.500000</td>\n",
       "      <td>34.750000</td>\n",
       "    </tr>\n",
       "    <tr>\n",
       "      <th>50%</th>\n",
       "      <td>100.500000</td>\n",
       "      <td>36.000000</td>\n",
       "      <td>61.500000</td>\n",
       "      <td>50.000000</td>\n",
       "    </tr>\n",
       "    <tr>\n",
       "      <th>75%</th>\n",
       "      <td>150.250000</td>\n",
       "      <td>49.000000</td>\n",
       "      <td>78.000000</td>\n",
       "      <td>73.000000</td>\n",
       "    </tr>\n",
       "    <tr>\n",
       "      <th>max</th>\n",
       "      <td>200.000000</td>\n",
       "      <td>70.000000</td>\n",
       "      <td>137.000000</td>\n",
       "      <td>99.000000</td>\n",
       "    </tr>\n",
       "  </tbody>\n",
       "</table>\n",
       "</div>"
      ],
      "text/plain": [
       "       customer_id         age  annual_income  spending_score\n",
       "count   200.000000  200.000000     200.000000      200.000000\n",
       "mean    100.500000   38.850000      60.560000       50.200000\n",
       "std      57.879185   13.969007      26.264721       25.823522\n",
       "min       1.000000   18.000000      15.000000        1.000000\n",
       "25%      50.750000   28.750000      41.500000       34.750000\n",
       "50%     100.500000   36.000000      61.500000       50.000000\n",
       "75%     150.250000   49.000000      78.000000       73.000000\n",
       "max     200.000000   70.000000     137.000000       99.000000"
      ]
     },
     "execution_count": 6,
     "metadata": {},
     "output_type": "execute_result"
    }
   ],
   "source": [
    "# check statistical information for numerical columns\n",
    "df.describe()"
   ]
  },
  {
   "cell_type": "code",
   "execution_count": 7,
   "id": "572cf0f3",
   "metadata": {},
   "outputs": [
    {
     "data": {
      "image/png": "[encoded data removed]",
      "text/plain": [
       "<Figure size 432x288 with 4 Axes>"
      ]
     },
     "metadata": {
      "needs_background": "light"
     },
     "output_type": "display_data"
    }
   ],
   "source": [
    "# check distribution for numerical columns\n",
    "df.hist()\n",
    "plt.tight_layout()"
   ]
  },
  {
   "cell_type": "code",
   "execution_count": 8,
   "id": "8272f329",
   "metadata": {},
   "outputs": [
    {
     "data": {
      "text/plain": [
       "<AxesSubplot:ylabel='spending_score'>"
      ]
     },
     "execution_count": 8,
     "metadata": {},
     "output_type": "execute_result"
    },
    {
     "data": {
      "image/png": "[encoded data removed]",
      "text/plain": [
       "<Figure size 864x576 with 3 Axes>"
      ]
     },
     "metadata": {
      "needs_background": "light"
     },
     "output_type": "display_data"
    }
   ],
   "source": [
    "# check for outliers\n",
    "plt.figure(figsize = (12,8))\n",
    "plt.subplot(221)\n",
    "sns.boxplot(y = df.age)\n",
    "\n",
    "plt.subplot(222)\n",
    "sns.boxplot(y = df.annual_income)\n",
    "\n",
    "plt.subplot(223)\n",
    "sns.boxplot(y = df.spending_score)"
   ]
  },
  {
   "cell_type": "code",
   "execution_count": 9,
   "id": "bc61d233",
   "metadata": {},
   "outputs": [
    {
     "data": {
      "text/plain": [
       "Female    112\n",
       "Male       88\n",
       "Name: gender, dtype: int64"
      ]
     },
     "execution_count": 9,
     "metadata": {},
     "output_type": "execute_result"
    }
   ],
   "source": [
    "# check value counts for categorical columns\n",
    "df.gender.value_counts()"
   ]
  },
  {
   "cell_type": "markdown",
   "id": "3089c218",
   "metadata": {},
   "source": [
    "# Exercise 3\n",
    "\n",
    "Detect outliers using IQR."
   ]
  },
  {
   "cell_type": "code",
   "execution_count": 10,
   "id": "c46a88c1",
   "metadata": {},
   "outputs": [],
   "source": [
    "def remove_outliers(df, k, col_list):\n",
    "    ''' remove outliers from a list of columns in a dataframe \n",
    "        and return that dataframe\n",
    "    '''\n",
    "    \n",
    "    for col in col_list:\n",
    "\n",
    "        q1, q3 = df[col].quantile([.25, .75])  # get quartiles\n",
    "        \n",
    "        iqr = q3 - q1   # calculate interquartile range\n",
    "        \n",
    "        upper_bound = q3 + k * iqr   # get upper bound\n",
    "        lower_bound = q1 - k * iqr   # get lower bound\n",
    "\n",
    "        # return dataframe without outliers\n",
    "        \n",
    "        df = df[(df[col] > lower_bound) & (df[col] < upper_bound)]\n",
    "        \n",
    "    return df"
   ]
  },
  {
   "cell_type": "code",
   "execution_count": 11,
   "id": "01432cf4",
   "metadata": {},
   "outputs": [
    {
     "data": {
      "text/plain": [
       "(198, 5)"
      ]
     },
     "execution_count": 11,
     "metadata": {},
     "output_type": "execute_result"
    }
   ],
   "source": [
    "# use function to remove outliers\n",
    "col_list = [col for col in df if col in ['age','annual_income']]\n",
    "df = remove_outliers(df,1.5,col_list)\n",
    "df.shape"
   ]
  },
  {
   "cell_type": "markdown",
   "id": "440d2304",
   "metadata": {},
   "source": [
    "# Exercise 5\n",
    "\n",
    "Encode categorical columns using a one hot encoder (pd.get_dummies)."
   ]
  },
  {
   "cell_type": "code",
   "execution_count": 12,
   "id": "2b0e8829",
   "metadata": {},
   "outputs": [],
   "source": [
    "# encode the only categorical column, concatenate back onto original dataframe, and drop gender column\n",
    "dummy_df = pd.get_dummies(df.gender, drop_first=True)\n",
    "df = pd.concat([df, dummy_df], axis=1).drop(columns = ['gender'])"
   ]
  },
  {
   "cell_type": "markdown",
   "id": "8d2b941a",
   "metadata": {},
   "source": [
    "# Exercise 4\n",
    "\n",
    "Split data (train, validate, and test split)."
   ]
  },
  {
   "cell_type": "code",
   "execution_count": 13,
   "id": "0f02cb3d",
   "metadata": {},
   "outputs": [
    {
     "data": {
      "text/plain": [
       "((110, 5), (48, 5), (40, 5))"
      ]
     },
     "execution_count": 13,
     "metadata": {},
     "output_type": "execute_result"
    }
   ],
   "source": [
    "# use previously created function to split data into 3 dataframes\n",
    "train, validate, test = wrangle_mall.split_data(df)\n",
    "train.shape, validate.shape, test.shape"
   ]
  },
  {
   "cell_type": "markdown",
   "id": "9d08f184",
   "metadata": {},
   "source": [
    "# Exercise 6\n",
    "\n",
    "Handles missing values.\n",
    "\n",
    "**There are no missing values**"
   ]
  },
  {
   "cell_type": "markdown",
   "id": "0b471aba",
   "metadata": {},
   "source": [
    "# Exercise 7\n",
    "\n",
    "Scaling"
   ]
  },
  {
   "cell_type": "code",
   "execution_count": 15,
   "id": "6b11316a",
   "metadata": {},
   "outputs": [
    {
     "data": {
      "text/html": [
       "<div>\n",
       "<style scoped>\n",
       "    .dataframe tbody tr th:only-of-type {\n",
       "        vertical-align: middle;\n",
       "    }\n",
       "\n",
       "    .dataframe tbody tr th {\n",
       "        vertical-align: top;\n",
       "    }\n",
       "\n",
       "    .dataframe thead th {\n",
       "        text-align: right;\n",
       "    }\n",
       "</style>\n",
       "<table border=\"1\" class=\"dataframe\">\n",
       "  <thead>\n",
       "    <tr style=\"text-align: right;\">\n",
       "      <th></th>\n",
       "      <th>customer_id</th>\n",
       "      <th>age</th>\n",
       "      <th>annual_income</th>\n",
       "      <th>spending_score</th>\n",
       "      <th>Male</th>\n",
       "    </tr>\n",
       "  </thead>\n",
       "  <tbody>\n",
       "    <tr>\n",
       "      <th>16</th>\n",
       "      <td>17</td>\n",
       "      <td>35</td>\n",
       "      <td>21</td>\n",
       "      <td>35</td>\n",
       "      <td>0</td>\n",
       "    </tr>\n",
       "    <tr>\n",
       "      <th>53</th>\n",
       "      <td>54</td>\n",
       "      <td>59</td>\n",
       "      <td>43</td>\n",
       "      <td>60</td>\n",
       "      <td>1</td>\n",
       "    </tr>\n",
       "    <tr>\n",
       "      <th>8</th>\n",
       "      <td>9</td>\n",
       "      <td>64</td>\n",
       "      <td>19</td>\n",
       "      <td>3</td>\n",
       "      <td>1</td>\n",
       "    </tr>\n",
       "    <tr>\n",
       "      <th>57</th>\n",
       "      <td>58</td>\n",
       "      <td>69</td>\n",
       "      <td>44</td>\n",
       "      <td>46</td>\n",
       "      <td>1</td>\n",
       "    </tr>\n",
       "    <tr>\n",
       "      <th>25</th>\n",
       "      <td>26</td>\n",
       "      <td>29</td>\n",
       "      <td>28</td>\n",
       "      <td>82</td>\n",
       "      <td>1</td>\n",
       "    </tr>\n",
       "  </tbody>\n",
       "</table>\n",
       "</div>"
      ],
      "text/plain": [
       "    customer_id  age  annual_income  spending_score  Male\n",
       "16           17   35             21              35     0\n",
       "53           54   59             43              60     1\n",
       "8             9   64             19               3     1\n",
       "57           58   69             44              46     1\n",
       "25           26   29             28              82     1"
      ]
     },
     "execution_count": 15,
     "metadata": {},
     "output_type": "execute_result"
    }
   ],
   "source": [
    "# use previously created function to scale data using min_max scaler\n",
    "train_sc, validate_sc, test_sc = wrangle_mall.scale_data_min_maxscaler(train, validate, test)\n",
    "train.head()"
   ]
  },
  {
   "cell_type": "code",
   "execution_count": 16,
   "id": "b015486d",
   "metadata": {},
   "outputs": [],
   "source": [
    "def prep_mall_customers_data():\n",
    "    '''\n",
    "    This function pulls in the mall customers data, preps it, scales it, splits it\n",
    "    and returns three dataframes.\n",
    "    '''\n",
    "\n",
    "    # use function to pull in mall customers dataframe\n",
    "    df = get_mall_customers_data()\n",
    "    # use function to remove outliers\n",
    "    col_list = [col for col in df if col in ['age','annual_income']]\n",
    "    df = remove_outliers(df,1.5,col_list)\n",
    "\n",
    "    # encode the only categorical column, concatenate back onto original dataframe, and drop gender column\n",
    "    dummy_df = pd.get_dummies(df.gender, drop_first=True)\n",
    "    df = pd.concat([df, dummy_df], axis=1).drop(columns = ['gender'])\n",
    "\n",
    "    # use previously created function to split data into 3 dataframes\n",
    "    train, validate, test = split_data(df)\n",
    "\n",
    "    # use previously created function to scale data using min_max scaler\n",
    "    train_sc, validate_sc, test_sc = scale_data_min_maxscaler(train, validate, test)\n",
    "\n",
    "    return train_sc, validate_sc, test_sc"
   ]
  },
  {
   "cell_type": "code",
   "execution_count": 17,
   "id": "3661ce43",
   "metadata": {},
   "outputs": [
    {
     "data": {
      "text/plain": [
       "((110, 5), (48, 5), (40, 5))"
      ]
     },
     "execution_count": 17,
     "metadata": {},
     "output_type": "execute_result"
    }
   ],
   "source": [
    "# check function created to prep mall customer data in wrangle_mall.py\n",
    "train, validate, test = wrangle_mall.prep_mall_customers_data()\n",
    "train.shape, validate.shape, test.shape"
   ]
  },
  {
   "cell_type": "code",
   "execution_count": null,
   "id": "7b240908",
   "metadata": {},
   "outputs": [],
   "source": []
  }
 ],
 "metadata": {
  "kernelspec": {
   "display_name": "Python 3",
   "language": "python",
   "name": "python3"
  },
  "language_info": {
   "codemirror_mode": {
    "name": "ipython",
    "version": 3
   },
   "file_extension": ".py",
   "mimetype": "text/x-python",
   "name": "python",
   "nbconvert_exporter": "python",
   "pygments_lexer": "ipython3",
   "version": "3.8.8"
  }
 },
 "nbformat": 4,
 "nbformat_minor": 5
}
