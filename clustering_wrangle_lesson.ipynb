{
 "cells": [
  {
   "cell_type": "code",
   "execution_count": 1,
   "metadata": {},
   "outputs": [],
   "source": [
    "import warnings\n",
    "warnings.filterwarnings(\"ignore\")\n",
    "\n",
    "# Wrangling\n",
    "import pandas as pd\n",
    "import numpy as np\n",
    "from sklearn.model_selection import train_test_split\n",
    "\n",
    "# Visualizing\n",
    "%matplotlib inline\n",
    "import matplotlib.pyplot as plt\n",
    "import seaborn as sns\n",
    "\n",
    "# default pandas decimal number display format\n",
    "pd.options.display.float_format = '{:.2f}'.format"
   ]
  },
  {
   "cell_type": "code",
   "execution_count": 2,
   "metadata": {},
   "outputs": [],
   "source": [
    "# google sheet: https://docs.google.com/spreadsheets/d/14L32EfCmr2asv85i08fla6jf1KakJVcLYaJMkXQ4_p0/edit#gid=0    \n",
    "\n",
    "#Note: Data has been filtered/changed a bit from orginal form to demonstrate null and outlier handling.\n",
    "\n",
    "\n",
    "sheet_url = 'https://docs.google.com/spreadsheets/d/14L32EfCmr2asv85i08fla6jf1KakJVcLYaJMkXQ4_p0/edit#gid=0'    \n",
    "\n",
    "csv_export_url = sheet_url.replace('/edit#gid=', '/export?format=csv&gid=')\n",
    "\n",
    "df = pd.read_csv(csv_export_url)"
   ]
  },
  {
   "cell_type": "code",
   "execution_count": 3,
   "metadata": {},
   "outputs": [
    {
     "data": {
      "text/html": [
       "<div>\n",
       "<style scoped>\n",
       "    .dataframe tbody tr th:only-of-type {\n",
       "        vertical-align: middle;\n",
       "    }\n",
       "\n",
       "    .dataframe tbody tr th {\n",
       "        vertical-align: top;\n",
       "    }\n",
       "\n",
       "    .dataframe thead th {\n",
       "        text-align: right;\n",
       "    }\n",
       "</style>\n",
       "<table border=\"1\" class=\"dataframe\">\n",
       "  <thead>\n",
       "    <tr style=\"text-align: right;\">\n",
       "      <th></th>\n",
       "      <th>Respondent</th>\n",
       "      <th>Hobbyist</th>\n",
       "      <th>Age</th>\n",
       "      <th>Age1stCode</th>\n",
       "      <th>Comp</th>\n",
       "      <th>Ethnicity</th>\n",
       "      <th>Gender</th>\n",
       "      <th>YearsCode</th>\n",
       "      <th>YearsCodePro</th>\n",
       "    </tr>\n",
       "  </thead>\n",
       "  <tbody>\n",
       "    <tr>\n",
       "      <th>0</th>\n",
       "      <td>8</td>\n",
       "      <td>Yes</td>\n",
       "      <td>36.00</td>\n",
       "      <td>12</td>\n",
       "      <td>116000</td>\n",
       "      <td>White or of European descent</td>\n",
       "      <td>Man</td>\n",
       "      <td>17</td>\n",
       "      <td>13</td>\n",
       "    </tr>\n",
       "    <tr>\n",
       "      <th>1</th>\n",
       "      <td>14</td>\n",
       "      <td>Yes</td>\n",
       "      <td>27.00</td>\n",
       "      <td>13</td>\n",
       "      <td>66000</td>\n",
       "      <td>White or of European descent</td>\n",
       "      <td>Man</td>\n",
       "      <td>5</td>\n",
       "      <td>1</td>\n",
       "    </tr>\n",
       "    <tr>\n",
       "      <th>2</th>\n",
       "      <td>17</td>\n",
       "      <td>Yes</td>\n",
       "      <td>25.00</td>\n",
       "      <td>14</td>\n",
       "      <td>79000</td>\n",
       "      <td>White or of European descent</td>\n",
       "      <td>Man</td>\n",
       "      <td>7</td>\n",
       "      <td>3</td>\n",
       "    </tr>\n",
       "    <tr>\n",
       "      <th>3</th>\n",
       "      <td>18</td>\n",
       "      <td>Yes</td>\n",
       "      <td>32.00</td>\n",
       "      <td>12</td>\n",
       "      <td>1260000</td>\n",
       "      <td>White or of European descent</td>\n",
       "      <td>Man</td>\n",
       "      <td>19</td>\n",
       "      <td>12</td>\n",
       "    </tr>\n",
       "    <tr>\n",
       "      <th>4</th>\n",
       "      <td>19</td>\n",
       "      <td>No</td>\n",
       "      <td>24.00</td>\n",
       "      <td>15</td>\n",
       "      <td>83400</td>\n",
       "      <td>White or of European descent</td>\n",
       "      <td>Man</td>\n",
       "      <td>9</td>\n",
       "      <td>3</td>\n",
       "    </tr>\n",
       "  </tbody>\n",
       "</table>\n",
       "</div>"
      ],
      "text/plain": [
       "   Respondent Hobbyist   Age Age1stCode     Comp  \\\n",
       "0           8      Yes 36.00         12   116000   \n",
       "1          14      Yes 27.00         13    66000   \n",
       "2          17      Yes 25.00         14    79000   \n",
       "3          18      Yes 32.00         12  1260000   \n",
       "4          19       No 24.00         15    83400   \n",
       "\n",
       "                      Ethnicity Gender YearsCode YearsCodePro  \n",
       "0  White or of European descent    Man        17           13  \n",
       "1  White or of European descent    Man         5            1  \n",
       "2  White or of European descent    Man         7            3  \n",
       "3  White or of European descent    Man        19           12  \n",
       "4  White or of European descent    Man         9            3  "
      ]
     },
     "execution_count": 3,
     "metadata": {},
     "output_type": "execute_result"
    }
   ],
   "source": [
    "df.head()"
   ]
  },
  {
   "cell_type": "code",
   "execution_count": 4,
   "metadata": {},
   "outputs": [
    {
     "data": {
      "image/png": "[encoded data removed]",
      "text/plain": [
       "<Figure size 432x288 with 4 Axes>"
      ]
     },
     "metadata": {
      "needs_background": "light"
     },
     "output_type": "display_data"
    }
   ],
   "source": [
    "df.hist()\n",
    "plt.tight_layout();"
   ]
  },
  {
   "cell_type": "code",
   "execution_count": 5,
   "metadata": {},
   "outputs": [
    {
     "name": "stdout",
     "output_type": "stream",
     "text": [
      "<class 'pandas.core.frame.DataFrame'>\n",
      "RangeIndex: 8152 entries, 0 to 8151\n",
      "Data columns (total 9 columns):\n",
      " #   Column        Non-Null Count  Dtype  \n",
      "---  ------        --------------  -----  \n",
      " 0   Respondent    8152 non-null   int64  \n",
      " 1   Hobbyist      8152 non-null   object \n",
      " 2   Age           7229 non-null   float64\n",
      " 3   Age1stCode    8136 non-null   object \n",
      " 4   Comp          8152 non-null   int64  \n",
      " 5   Ethnicity     3087 non-null   object \n",
      " 6   Gender        7575 non-null   object \n",
      " 7   YearsCode     8132 non-null   object \n",
      " 8   YearsCodePro  8136 non-null   object \n",
      "dtypes: float64(1), int64(2), object(6)\n",
      "memory usage: 573.3+ KB\n"
     ]
    }
   ],
   "source": [
    "df.info()"
   ]
  },
  {
   "cell_type": "markdown",
   "metadata": {},
   "source": [
    "\n",
    "\n",
    "### How to handle nulls and outliers"
   ]
  },
  {
   "cell_type": "markdown",
   "metadata": {},
   "source": [
    "### How do I handle missing data (nulls) in my dataset?\n",
    "\n",
    "- Drop the nulls\n",
    "    - drop columns\n",
    "    - drop rows\n",
    "- Impute missing values\n",
    "    - fillna with mean, median, mode of the column\n",
    "    - Impute using some other algorithms - KNN imputer\n",
    "- Use algorithms which can handle nulls\n",
    "    - Ignores missing values\n",
    "- Boolean flags for missing data \n",
    "    - (https://scikit-learn.org/stable/modules/generated/sklearn.impute.MissingIndicator.html#sklearn.impute.MissingIndicator)\n"
   ]
  },
  {
   "cell_type": "code",
   "execution_count": 6,
   "metadata": {},
   "outputs": [
    {
     "data": {
      "text/plain": [
       "Respondent         0\n",
       "Hobbyist           0\n",
       "Age              923\n",
       "Age1stCode        16\n",
       "Comp               0\n",
       "Ethnicity       5065\n",
       "Gender           577\n",
       "YearsCode         20\n",
       "YearsCodePro      16\n",
       "dtype: int64"
      ]
     },
     "execution_count": 6,
     "metadata": {},
     "output_type": "execute_result"
    }
   ],
   "source": [
    "# How many nulls have in each column?\n",
    "\n",
    "df.isnull().sum()"
   ]
  },
  {
   "cell_type": "code",
   "execution_count": 7,
   "metadata": {},
   "outputs": [
    {
     "data": {
      "text/plain": [
       "Respondent      0.00\n",
       "Hobbyist        0.00\n",
       "Age            11.32\n",
       "Age1stCode      0.20\n",
       "Comp            0.00\n",
       "Ethnicity      62.13\n",
       "Gender          7.08\n",
       "YearsCode       0.25\n",
       "YearsCodePro    0.20\n",
       "dtype: float64"
      ]
     },
     "execution_count": 7,
     "metadata": {},
     "output_type": "execute_result"
    }
   ],
   "source": [
    "# % values missing in each column\n",
    "\n",
    "df.isnull().sum()/len(df)*100"
   ]
  },
  {
   "cell_type": "code",
   "execution_count": 8,
   "metadata": {
    "scrolled": true
   },
   "outputs": [
    {
     "data": {
      "text/plain": [
       "1    4444\n",
       "0    2872\n",
       "3     486\n",
       "2     344\n",
       "4       4\n",
       "5       1\n",
       "6       1\n",
       "dtype: int64"
      ]
     },
     "execution_count": 8,
     "metadata": {},
     "output_type": "execute_result"
    }
   ],
   "source": [
    "# How many nulls have in each row?\n",
    "\n",
    "df.isnull().sum(axis =1).value_counts()"
   ]
  },
  {
   "cell_type": "code",
   "execution_count": 9,
   "metadata": {
    "scrolled": false
   },
   "outputs": [
    {
     "data": {
      "text/html": [
       "<div>\n",
       "<style scoped>\n",
       "    .dataframe tbody tr th:only-of-type {\n",
       "        vertical-align: middle;\n",
       "    }\n",
       "\n",
       "    .dataframe tbody tr th {\n",
       "        vertical-align: top;\n",
       "    }\n",
       "\n",
       "    .dataframe thead th {\n",
       "        text-align: right;\n",
       "    }\n",
       "</style>\n",
       "<table border=\"1\" class=\"dataframe\">\n",
       "  <thead>\n",
       "    <tr style=\"text-align: right;\">\n",
       "      <th></th>\n",
       "      <th>Respondent</th>\n",
       "      <th>Hobbyist</th>\n",
       "      <th>Age</th>\n",
       "      <th>Age1stCode</th>\n",
       "      <th>Comp</th>\n",
       "      <th>Gender</th>\n",
       "      <th>YearsCode</th>\n",
       "      <th>YearsCodePro</th>\n",
       "    </tr>\n",
       "  </thead>\n",
       "  <tbody>\n",
       "    <tr>\n",
       "      <th>0</th>\n",
       "      <td>8</td>\n",
       "      <td>Yes</td>\n",
       "      <td>36.00</td>\n",
       "      <td>12</td>\n",
       "      <td>116000</td>\n",
       "      <td>Man</td>\n",
       "      <td>17</td>\n",
       "      <td>13</td>\n",
       "    </tr>\n",
       "    <tr>\n",
       "      <th>1</th>\n",
       "      <td>14</td>\n",
       "      <td>Yes</td>\n",
       "      <td>27.00</td>\n",
       "      <td>13</td>\n",
       "      <td>66000</td>\n",
       "      <td>Man</td>\n",
       "      <td>5</td>\n",
       "      <td>1</td>\n",
       "    </tr>\n",
       "    <tr>\n",
       "      <th>2</th>\n",
       "      <td>17</td>\n",
       "      <td>Yes</td>\n",
       "      <td>25.00</td>\n",
       "      <td>14</td>\n",
       "      <td>79000</td>\n",
       "      <td>Man</td>\n",
       "      <td>7</td>\n",
       "      <td>3</td>\n",
       "    </tr>\n",
       "    <tr>\n",
       "      <th>3</th>\n",
       "      <td>18</td>\n",
       "      <td>Yes</td>\n",
       "      <td>32.00</td>\n",
       "      <td>12</td>\n",
       "      <td>1260000</td>\n",
       "      <td>Man</td>\n",
       "      <td>19</td>\n",
       "      <td>12</td>\n",
       "    </tr>\n",
       "    <tr>\n",
       "      <th>4</th>\n",
       "      <td>19</td>\n",
       "      <td>No</td>\n",
       "      <td>24.00</td>\n",
       "      <td>15</td>\n",
       "      <td>83400</td>\n",
       "      <td>Man</td>\n",
       "      <td>9</td>\n",
       "      <td>3</td>\n",
       "    </tr>\n",
       "    <tr>\n",
       "      <th>...</th>\n",
       "      <td>...</td>\n",
       "      <td>...</td>\n",
       "      <td>...</td>\n",
       "      <td>...</td>\n",
       "      <td>...</td>\n",
       "      <td>...</td>\n",
       "      <td>...</td>\n",
       "      <td>...</td>\n",
       "    </tr>\n",
       "    <tr>\n",
       "      <th>8147</th>\n",
       "      <td>65589</td>\n",
       "      <td>Yes</td>\n",
       "      <td>NaN</td>\n",
       "      <td>16</td>\n",
       "      <td>150000</td>\n",
       "      <td>NaN</td>\n",
       "      <td>10</td>\n",
       "      <td>6</td>\n",
       "    </tr>\n",
       "    <tr>\n",
       "      <th>8148</th>\n",
       "      <td>65596</td>\n",
       "      <td>Yes</td>\n",
       "      <td>NaN</td>\n",
       "      <td>22</td>\n",
       "      <td>70000</td>\n",
       "      <td>NaN</td>\n",
       "      <td>6</td>\n",
       "      <td>4</td>\n",
       "    </tr>\n",
       "    <tr>\n",
       "      <th>8149</th>\n",
       "      <td>65602</td>\n",
       "      <td>Yes</td>\n",
       "      <td>NaN</td>\n",
       "      <td>13</td>\n",
       "      <td>140000</td>\n",
       "      <td>NaN</td>\n",
       "      <td>15</td>\n",
       "      <td>12</td>\n",
       "    </tr>\n",
       "    <tr>\n",
       "      <th>8150</th>\n",
       "      <td>65604</td>\n",
       "      <td>No</td>\n",
       "      <td>NaN</td>\n",
       "      <td>13</td>\n",
       "      <td>150000</td>\n",
       "      <td>NaN</td>\n",
       "      <td>7</td>\n",
       "      <td>4</td>\n",
       "    </tr>\n",
       "    <tr>\n",
       "      <th>8151</th>\n",
       "      <td>65629</td>\n",
       "      <td>Yes</td>\n",
       "      <td>41.00</td>\n",
       "      <td>15</td>\n",
       "      <td>200</td>\n",
       "      <td>Man</td>\n",
       "      <td>25</td>\n",
       "      <td>20</td>\n",
       "    </tr>\n",
       "  </tbody>\n",
       "</table>\n",
       "<p>8152 rows × 8 columns</p>\n",
       "</div>"
      ],
      "text/plain": [
       "      Respondent Hobbyist   Age Age1stCode     Comp Gender YearsCode  \\\n",
       "0              8      Yes 36.00         12   116000    Man        17   \n",
       "1             14      Yes 27.00         13    66000    Man         5   \n",
       "2             17      Yes 25.00         14    79000    Man         7   \n",
       "3             18      Yes 32.00         12  1260000    Man        19   \n",
       "4             19       No 24.00         15    83400    Man         9   \n",
       "...          ...      ...   ...        ...      ...    ...       ...   \n",
       "8147       65589      Yes   NaN         16   150000    NaN        10   \n",
       "8148       65596      Yes   NaN         22    70000    NaN         6   \n",
       "8149       65602      Yes   NaN         13   140000    NaN        15   \n",
       "8150       65604       No   NaN         13   150000    NaN         7   \n",
       "8151       65629      Yes 41.00         15      200    Man        25   \n",
       "\n",
       "     YearsCodePro  \n",
       "0              13  \n",
       "1               1  \n",
       "2               3  \n",
       "3              12  \n",
       "4               3  \n",
       "...           ...  \n",
       "8147            6  \n",
       "8148            4  \n",
       "8149           12  \n",
       "8150            4  \n",
       "8151           20  \n",
       "\n",
       "[8152 rows x 8 columns]"
      ]
     },
     "execution_count": 9,
     "metadata": {},
     "output_type": "execute_result"
    }
   ],
   "source": [
    "# Drop columns using dropna() based on a threshold\n",
    "\n",
    "# threshold: Require that many non-NA values to survive. \n",
    "\n",
    "df.dropna(axis = 1, thresh = 0.5 * len(df.index))"
   ]
  },
  {
   "cell_type": "code",
   "execution_count": 10,
   "metadata": {},
   "outputs": [
    {
     "data": {
      "text/html": [
       "<div>\n",
       "<style scoped>\n",
       "    .dataframe tbody tr th:only-of-type {\n",
       "        vertical-align: middle;\n",
       "    }\n",
       "\n",
       "    .dataframe tbody tr th {\n",
       "        vertical-align: top;\n",
       "    }\n",
       "\n",
       "    .dataframe thead th {\n",
       "        text-align: right;\n",
       "    }\n",
       "</style>\n",
       "<table border=\"1\" class=\"dataframe\">\n",
       "  <thead>\n",
       "    <tr style=\"text-align: right;\">\n",
       "      <th></th>\n",
       "      <th>Respondent</th>\n",
       "      <th>Hobbyist</th>\n",
       "      <th>Age</th>\n",
       "      <th>Age1stCode</th>\n",
       "      <th>Comp</th>\n",
       "      <th>Ethnicity</th>\n",
       "      <th>Gender</th>\n",
       "      <th>YearsCode</th>\n",
       "      <th>YearsCodePro</th>\n",
       "    </tr>\n",
       "  </thead>\n",
       "  <tbody>\n",
       "    <tr>\n",
       "      <th>0</th>\n",
       "      <td>8</td>\n",
       "      <td>Yes</td>\n",
       "      <td>36.00</td>\n",
       "      <td>12</td>\n",
       "      <td>116000</td>\n",
       "      <td>White or of European descent</td>\n",
       "      <td>Man</td>\n",
       "      <td>17</td>\n",
       "      <td>13</td>\n",
       "    </tr>\n",
       "    <tr>\n",
       "      <th>1</th>\n",
       "      <td>14</td>\n",
       "      <td>Yes</td>\n",
       "      <td>27.00</td>\n",
       "      <td>13</td>\n",
       "      <td>66000</td>\n",
       "      <td>White or of European descent</td>\n",
       "      <td>Man</td>\n",
       "      <td>5</td>\n",
       "      <td>1</td>\n",
       "    </tr>\n",
       "    <tr>\n",
       "      <th>2</th>\n",
       "      <td>17</td>\n",
       "      <td>Yes</td>\n",
       "      <td>25.00</td>\n",
       "      <td>14</td>\n",
       "      <td>79000</td>\n",
       "      <td>White or of European descent</td>\n",
       "      <td>Man</td>\n",
       "      <td>7</td>\n",
       "      <td>3</td>\n",
       "    </tr>\n",
       "    <tr>\n",
       "      <th>3</th>\n",
       "      <td>18</td>\n",
       "      <td>Yes</td>\n",
       "      <td>32.00</td>\n",
       "      <td>12</td>\n",
       "      <td>1260000</td>\n",
       "      <td>White or of European descent</td>\n",
       "      <td>Man</td>\n",
       "      <td>19</td>\n",
       "      <td>12</td>\n",
       "    </tr>\n",
       "    <tr>\n",
       "      <th>4</th>\n",
       "      <td>19</td>\n",
       "      <td>No</td>\n",
       "      <td>24.00</td>\n",
       "      <td>15</td>\n",
       "      <td>83400</td>\n",
       "      <td>White or of European descent</td>\n",
       "      <td>Man</td>\n",
       "      <td>9</td>\n",
       "      <td>3</td>\n",
       "    </tr>\n",
       "    <tr>\n",
       "      <th>...</th>\n",
       "      <td>...</td>\n",
       "      <td>...</td>\n",
       "      <td>...</td>\n",
       "      <td>...</td>\n",
       "      <td>...</td>\n",
       "      <td>...</td>\n",
       "      <td>...</td>\n",
       "      <td>...</td>\n",
       "      <td>...</td>\n",
       "    </tr>\n",
       "    <tr>\n",
       "      <th>8147</th>\n",
       "      <td>65589</td>\n",
       "      <td>Yes</td>\n",
       "      <td>NaN</td>\n",
       "      <td>16</td>\n",
       "      <td>150000</td>\n",
       "      <td>NaN</td>\n",
       "      <td>NaN</td>\n",
       "      <td>10</td>\n",
       "      <td>6</td>\n",
       "    </tr>\n",
       "    <tr>\n",
       "      <th>8148</th>\n",
       "      <td>65596</td>\n",
       "      <td>Yes</td>\n",
       "      <td>NaN</td>\n",
       "      <td>22</td>\n",
       "      <td>70000</td>\n",
       "      <td>NaN</td>\n",
       "      <td>NaN</td>\n",
       "      <td>6</td>\n",
       "      <td>4</td>\n",
       "    </tr>\n",
       "    <tr>\n",
       "      <th>8149</th>\n",
       "      <td>65602</td>\n",
       "      <td>Yes</td>\n",
       "      <td>NaN</td>\n",
       "      <td>13</td>\n",
       "      <td>140000</td>\n",
       "      <td>NaN</td>\n",
       "      <td>NaN</td>\n",
       "      <td>15</td>\n",
       "      <td>12</td>\n",
       "    </tr>\n",
       "    <tr>\n",
       "      <th>8150</th>\n",
       "      <td>65604</td>\n",
       "      <td>No</td>\n",
       "      <td>NaN</td>\n",
       "      <td>13</td>\n",
       "      <td>150000</td>\n",
       "      <td>NaN</td>\n",
       "      <td>NaN</td>\n",
       "      <td>7</td>\n",
       "      <td>4</td>\n",
       "    </tr>\n",
       "    <tr>\n",
       "      <th>8151</th>\n",
       "      <td>65629</td>\n",
       "      <td>Yes</td>\n",
       "      <td>41.00</td>\n",
       "      <td>15</td>\n",
       "      <td>200</td>\n",
       "      <td>NaN</td>\n",
       "      <td>Man</td>\n",
       "      <td>25</td>\n",
       "      <td>20</td>\n",
       "    </tr>\n",
       "  </tbody>\n",
       "</table>\n",
       "<p>8150 rows × 9 columns</p>\n",
       "</div>"
      ],
      "text/plain": [
       "      Respondent Hobbyist   Age Age1stCode     Comp  \\\n",
       "0              8      Yes 36.00         12   116000   \n",
       "1             14      Yes 27.00         13    66000   \n",
       "2             17      Yes 25.00         14    79000   \n",
       "3             18      Yes 32.00         12  1260000   \n",
       "4             19       No 24.00         15    83400   \n",
       "...          ...      ...   ...        ...      ...   \n",
       "8147       65589      Yes   NaN         16   150000   \n",
       "8148       65596      Yes   NaN         22    70000   \n",
       "8149       65602      Yes   NaN         13   140000   \n",
       "8150       65604       No   NaN         13   150000   \n",
       "8151       65629      Yes 41.00         15      200   \n",
       "\n",
       "                         Ethnicity Gender YearsCode YearsCodePro  \n",
       "0     White or of European descent    Man        17           13  \n",
       "1     White or of European descent    Man         5            1  \n",
       "2     White or of European descent    Man         7            3  \n",
       "3     White or of European descent    Man        19           12  \n",
       "4     White or of European descent    Man         9            3  \n",
       "...                            ...    ...       ...          ...  \n",
       "8147                           NaN    NaN        10            6  \n",
       "8148                           NaN    NaN         6            4  \n",
       "8149                           NaN    NaN        15           12  \n",
       "8150                           NaN    NaN         7            4  \n",
       "8151                           NaN    Man        25           20  \n",
       "\n",
       "[8150 rows x 9 columns]"
      ]
     },
     "execution_count": 10,
     "metadata": {},
     "output_type": "execute_result"
    }
   ],
   "source": [
    "# Drop rows using dropna() based on a threshold\n",
    "\n",
    "# threshold: only drop when # of nulls in a row is above the threshold value\n",
    "\n",
    "df.dropna(axis = 0, thresh = 0.5 * len(df.columns))"
   ]
  },
  {
   "cell_type": "code",
   "execution_count": 11,
   "metadata": {},
   "outputs": [],
   "source": [
    "def handle_missing_values(df, prop_required_row = 0.5, prop_required_col = 0.5):\n",
    "    ''' function which takes in a dataframe, required notnull proportions of non-null rows and columns.\n",
    "    drop the columns and rows columns based on theshold:'''\n",
    "    \n",
    "    #drop columns with nulls\n",
    "    threshold = int(prop_required_col * len(df.index)) # Require that many non-NA values.\n",
    "    df.dropna(axis = 1, thresh = threshold, inplace = True)\n",
    "    \n",
    "    #drop rows with nulls\n",
    "    threshold = int(prop_required_row * len(df.columns)) # Require that many non-NA values.\n",
    "    df.dropna(axis = 0, thresh = threshold, inplace = True)\n",
    "    \n",
    "    \n",
    "    return df"
   ]
  },
  {
   "cell_type": "code",
   "execution_count": 12,
   "metadata": {},
   "outputs": [
    {
     "data": {
      "text/html": [
       "<div>\n",
       "<style scoped>\n",
       "    .dataframe tbody tr th:only-of-type {\n",
       "        vertical-align: middle;\n",
       "    }\n",
       "\n",
       "    .dataframe tbody tr th {\n",
       "        vertical-align: top;\n",
       "    }\n",
       "\n",
       "    .dataframe thead th {\n",
       "        text-align: right;\n",
       "    }\n",
       "</style>\n",
       "<table border=\"1\" class=\"dataframe\">\n",
       "  <thead>\n",
       "    <tr style=\"text-align: right;\">\n",
       "      <th></th>\n",
       "      <th>Respondent</th>\n",
       "      <th>Hobbyist</th>\n",
       "      <th>Age</th>\n",
       "      <th>Age1stCode</th>\n",
       "      <th>Comp</th>\n",
       "      <th>Gender</th>\n",
       "      <th>YearsCode</th>\n",
       "      <th>YearsCodePro</th>\n",
       "    </tr>\n",
       "  </thead>\n",
       "  <tbody>\n",
       "    <tr>\n",
       "      <th>0</th>\n",
       "      <td>8</td>\n",
       "      <td>Yes</td>\n",
       "      <td>36.00</td>\n",
       "      <td>12</td>\n",
       "      <td>116000</td>\n",
       "      <td>Man</td>\n",
       "      <td>17</td>\n",
       "      <td>13</td>\n",
       "    </tr>\n",
       "    <tr>\n",
       "      <th>1</th>\n",
       "      <td>14</td>\n",
       "      <td>Yes</td>\n",
       "      <td>27.00</td>\n",
       "      <td>13</td>\n",
       "      <td>66000</td>\n",
       "      <td>Man</td>\n",
       "      <td>5</td>\n",
       "      <td>1</td>\n",
       "    </tr>\n",
       "    <tr>\n",
       "      <th>2</th>\n",
       "      <td>17</td>\n",
       "      <td>Yes</td>\n",
       "      <td>25.00</td>\n",
       "      <td>14</td>\n",
       "      <td>79000</td>\n",
       "      <td>Man</td>\n",
       "      <td>7</td>\n",
       "      <td>3</td>\n",
       "    </tr>\n",
       "    <tr>\n",
       "      <th>3</th>\n",
       "      <td>18</td>\n",
       "      <td>Yes</td>\n",
       "      <td>32.00</td>\n",
       "      <td>12</td>\n",
       "      <td>1260000</td>\n",
       "      <td>Man</td>\n",
       "      <td>19</td>\n",
       "      <td>12</td>\n",
       "    </tr>\n",
       "    <tr>\n",
       "      <th>4</th>\n",
       "      <td>19</td>\n",
       "      <td>No</td>\n",
       "      <td>24.00</td>\n",
       "      <td>15</td>\n",
       "      <td>83400</td>\n",
       "      <td>Man</td>\n",
       "      <td>9</td>\n",
       "      <td>3</td>\n",
       "    </tr>\n",
       "  </tbody>\n",
       "</table>\n",
       "</div>"
      ],
      "text/plain": [
       "   Respondent Hobbyist   Age Age1stCode     Comp Gender YearsCode YearsCodePro\n",
       "0           8      Yes 36.00         12   116000    Man        17           13\n",
       "1          14      Yes 27.00         13    66000    Man         5            1\n",
       "2          17      Yes 25.00         14    79000    Man         7            3\n",
       "3          18      Yes 32.00         12  1260000    Man        19           12\n",
       "4          19       No 24.00         15    83400    Man         9            3"
      ]
     },
     "execution_count": 12,
     "metadata": {},
     "output_type": "execute_result"
    }
   ],
   "source": [
    "# use the function on our dataset\n",
    "df = handle_missing_values(df, prop_required_row = 0.5, prop_required_col = 0.5)\n",
    "df.head()"
   ]
  },
  {
   "cell_type": "code",
   "execution_count": 13,
   "metadata": {},
   "outputs": [
    {
     "name": "stdout",
     "output_type": "stream",
     "text": [
      "<class 'pandas.core.frame.DataFrame'>\n",
      "Int64Index: 8151 entries, 0 to 8151\n",
      "Data columns (total 8 columns):\n",
      " #   Column        Non-Null Count  Dtype  \n",
      "---  ------        --------------  -----  \n",
      " 0   Respondent    8151 non-null   int64  \n",
      " 1   Hobbyist      8151 non-null   object \n",
      " 2   Age           7229 non-null   float64\n",
      " 3   Age1stCode    8136 non-null   object \n",
      " 4   Comp          8151 non-null   int64  \n",
      " 5   Gender        7575 non-null   object \n",
      " 6   YearsCode     8132 non-null   object \n",
      " 7   YearsCodePro  8136 non-null   object \n",
      "dtypes: float64(1), int64(2), object(5)\n",
      "memory usage: 573.1+ KB\n"
     ]
    }
   ],
   "source": [
    "df.info()"
   ]
  },
  {
   "cell_type": "code",
   "execution_count": 14,
   "metadata": {},
   "outputs": [
    {
     "data": {
      "text/plain": [
       "Respondent        0\n",
       "Hobbyist          0\n",
       "Age             922\n",
       "Age1stCode       15\n",
       "Comp              0\n",
       "Gender          576\n",
       "YearsCode        19\n",
       "YearsCodePro     15\n",
       "dtype: int64"
      ]
     },
     "execution_count": 14,
     "metadata": {},
     "output_type": "execute_result"
    }
   ],
   "source": [
    "# check nulls again\n",
    "df.isnull().sum()"
   ]
  },
  {
   "cell_type": "code",
   "execution_count": 15,
   "metadata": {},
   "outputs": [
    {
     "data": {
      "text/plain": [
       "Respondent        0\n",
       "Hobbyist          0\n",
       "Age             914\n",
       "Age1stCode        0\n",
       "Comp              0\n",
       "Gender          574\n",
       "YearsCode         0\n",
       "YearsCodePro      0\n",
       "dtype: int64"
      ]
     },
     "execution_count": 15,
     "metadata": {},
     "output_type": "execute_result"
    }
   ],
   "source": [
    "# drop null rows for specific columns only\n",
    "\n",
    "df = df[df.YearsCode.notnull()]\n",
    "df = df[df.YearsCodePro.notnull()]\n",
    "df = df[df.Age1stCode.notnull()]\n",
    "\n",
    "df.isnull().sum()"
   ]
  },
  {
   "cell_type": "code",
   "execution_count": 16,
   "metadata": {},
   "outputs": [
    {
     "data": {
      "text/plain": [
       "Man                                                           81.77\n",
       "Woman                                                          9.20\n",
       "Non-binary, genderqueer, or gender non-conforming              1.18\n",
       "Man;Non-binary, genderqueer, or gender non-conforming          0.37\n",
       "Woman;Non-binary, genderqueer, or gender non-conforming        0.33\n",
       "Woman;Man                                                      0.04\n",
       "Woman;Man;Non-binary, genderqueer, or gender non-conforming    0.02\n",
       "Name: Gender, dtype: float64"
      ]
     },
     "execution_count": 16,
     "metadata": {},
     "output_type": "execute_result"
    }
   ],
   "source": [
    "# what is the most common/frequent observation in Gender in train dataset?\n",
    "df.Gender.value_counts()/len(df)*100"
   ]
  },
  {
   "cell_type": "code",
   "execution_count": 19,
   "metadata": {},
   "outputs": [
    {
     "data": {
      "text/plain": [
       "0    Man\n",
       "dtype: object"
      ]
     },
     "execution_count": 19,
     "metadata": {},
     "output_type": "execute_result"
    }
   ],
   "source": [
    "# Fill NaNs with mode\n",
    "\n",
    "df.Gender.mode()\n",
    "\n",
    "# df['Gender'] = df.Gender.fillna(df.Gender.mode()[0])"
   ]
  },
  {
   "cell_type": "code",
   "execution_count": 20,
   "metadata": {},
   "outputs": [
    {
     "data": {
      "text/plain": [
       "Respondent        0\n",
       "Hobbyist          0\n",
       "Age             914\n",
       "Age1stCode        0\n",
       "Comp              0\n",
       "Gender            0\n",
       "YearsCode         0\n",
       "YearsCodePro      0\n",
       "dtype: int64"
      ]
     },
     "execution_count": 20,
     "metadata": {},
     "output_type": "execute_result"
    }
   ],
   "source": [
    "# check nulls again\n",
    "df.isnull().sum()"
   ]
  },
  {
   "cell_type": "code",
   "execution_count": 21,
   "metadata": {},
   "outputs": [
    {
     "name": "stdout",
     "output_type": "stream",
     "text": [
      "<class 'pandas.core.frame.DataFrame'>\n",
      "Int64Index: 8108 entries, 0 to 8151\n",
      "Data columns (total 8 columns):\n",
      " #   Column        Non-Null Count  Dtype  \n",
      "---  ------        --------------  -----  \n",
      " 0   Respondent    8108 non-null   int64  \n",
      " 1   Hobbyist      8108 non-null   object \n",
      " 2   Age           7194 non-null   float64\n",
      " 3   Age1stCode    8108 non-null   object \n",
      " 4   Comp          8108 non-null   int64  \n",
      " 5   Gender        8108 non-null   object \n",
      " 6   YearsCode     8108 non-null   object \n",
      " 7   YearsCodePro  8108 non-null   object \n",
      "dtypes: float64(1), int64(2), object(5)\n",
      "memory usage: 570.1+ KB\n"
     ]
    }
   ],
   "source": [
    "df.info()"
   ]
  },
  {
   "cell_type": "code",
   "execution_count": 22,
   "metadata": {},
   "outputs": [
    {
     "ename": "ValueError",
     "evalue": "invalid literal for int() with base 10: 'Younger than 5 years'",
     "output_type": "error",
     "traceback": [
      "\u001b[0;31m---------------------------------------------------------------------------\u001b[0m",
      "\u001b[0;31mValueError\u001b[0m                                Traceback (most recent call last)",
      "\u001b[0;32m<ipython-input-22-2410cacdbfc7>\u001b[0m in \u001b[0;36m<module>\u001b[0;34m\u001b[0m\n\u001b[1;32m      1\u001b[0m \u001b[0;31m# can I simply convert the object columns to float/int using 'astype'?\u001b[0m\u001b[0;34m\u001b[0m\u001b[0;34m\u001b[0m\u001b[0;34m\u001b[0m\u001b[0m\n\u001b[0;32m----> 2\u001b[0;31m \u001b[0mdf\u001b[0m\u001b[0;34m[\u001b[0m\u001b[0;34m'Age1stCode'\u001b[0m\u001b[0;34m]\u001b[0m \u001b[0;34m=\u001b[0m \u001b[0mdf\u001b[0m\u001b[0;34m.\u001b[0m\u001b[0mAge1stCode\u001b[0m\u001b[0;34m.\u001b[0m\u001b[0mastype\u001b[0m\u001b[0;34m(\u001b[0m\u001b[0;34m'int64'\u001b[0m\u001b[0;34m)\u001b[0m\u001b[0;34m\u001b[0m\u001b[0;34m\u001b[0m\u001b[0m\n\u001b[0m",
      "\u001b[0;32m/opt/homebrew/anaconda3/lib/python3.8/site-packages/pandas/core/generic.py\u001b[0m in \u001b[0;36mastype\u001b[0;34m(self, dtype, copy, errors)\u001b[0m\n\u001b[1;32m   5875\u001b[0m         \u001b[0;32melse\u001b[0m\u001b[0;34m:\u001b[0m\u001b[0;34m\u001b[0m\u001b[0;34m\u001b[0m\u001b[0m\n\u001b[1;32m   5876\u001b[0m             \u001b[0;31m# else, only a single dtype is given\u001b[0m\u001b[0;34m\u001b[0m\u001b[0;34m\u001b[0m\u001b[0;34m\u001b[0m\u001b[0m\n\u001b[0;32m-> 5877\u001b[0;31m             \u001b[0mnew_data\u001b[0m \u001b[0;34m=\u001b[0m \u001b[0mself\u001b[0m\u001b[0;34m.\u001b[0m\u001b[0m_mgr\u001b[0m\u001b[0;34m.\u001b[0m\u001b[0mastype\u001b[0m\u001b[0;34m(\u001b[0m\u001b[0mdtype\u001b[0m\u001b[0;34m=\u001b[0m\u001b[0mdtype\u001b[0m\u001b[0;34m,\u001b[0m \u001b[0mcopy\u001b[0m\u001b[0;34m=\u001b[0m\u001b[0mcopy\u001b[0m\u001b[0;34m,\u001b[0m \u001b[0merrors\u001b[0m\u001b[0;34m=\u001b[0m\u001b[0merrors\u001b[0m\u001b[0;34m)\u001b[0m\u001b[0;34m\u001b[0m\u001b[0;34m\u001b[0m\u001b[0m\n\u001b[0m\u001b[1;32m   5878\u001b[0m             \u001b[0;32mreturn\u001b[0m \u001b[0mself\u001b[0m\u001b[0;34m.\u001b[0m\u001b[0m_constructor\u001b[0m\u001b[0;34m(\u001b[0m\u001b[0mnew_data\u001b[0m\u001b[0;34m)\u001b[0m\u001b[0;34m.\u001b[0m\u001b[0m__finalize__\u001b[0m\u001b[0;34m(\u001b[0m\u001b[0mself\u001b[0m\u001b[0;34m,\u001b[0m \u001b[0mmethod\u001b[0m\u001b[0;34m=\u001b[0m\u001b[0;34m\"astype\"\u001b[0m\u001b[0;34m)\u001b[0m\u001b[0;34m\u001b[0m\u001b[0;34m\u001b[0m\u001b[0m\n\u001b[1;32m   5879\u001b[0m \u001b[0;34m\u001b[0m\u001b[0m\n",
      "\u001b[0;32m/opt/homebrew/anaconda3/lib/python3.8/site-packages/pandas/core/internals/managers.py\u001b[0m in \u001b[0;36mastype\u001b[0;34m(self, dtype, copy, errors)\u001b[0m\n\u001b[1;32m    629\u001b[0m         \u001b[0mself\u001b[0m\u001b[0;34m,\u001b[0m \u001b[0mdtype\u001b[0m\u001b[0;34m,\u001b[0m \u001b[0mcopy\u001b[0m\u001b[0;34m:\u001b[0m \u001b[0mbool\u001b[0m \u001b[0;34m=\u001b[0m \u001b[0;32mFalse\u001b[0m\u001b[0;34m,\u001b[0m \u001b[0merrors\u001b[0m\u001b[0;34m:\u001b[0m \u001b[0mstr\u001b[0m \u001b[0;34m=\u001b[0m \u001b[0;34m\"raise\"\u001b[0m\u001b[0;34m\u001b[0m\u001b[0;34m\u001b[0m\u001b[0m\n\u001b[1;32m    630\u001b[0m     ) -> \"BlockManager\":\n\u001b[0;32m--> 631\u001b[0;31m         \u001b[0;32mreturn\u001b[0m \u001b[0mself\u001b[0m\u001b[0;34m.\u001b[0m\u001b[0mapply\u001b[0m\u001b[0;34m(\u001b[0m\u001b[0;34m\"astype\"\u001b[0m\u001b[0;34m,\u001b[0m \u001b[0mdtype\u001b[0m\u001b[0;34m=\u001b[0m\u001b[0mdtype\u001b[0m\u001b[0;34m,\u001b[0m \u001b[0mcopy\u001b[0m\u001b[0;34m=\u001b[0m\u001b[0mcopy\u001b[0m\u001b[0;34m,\u001b[0m \u001b[0merrors\u001b[0m\u001b[0;34m=\u001b[0m\u001b[0merrors\u001b[0m\u001b[0;34m)\u001b[0m\u001b[0;34m\u001b[0m\u001b[0;34m\u001b[0m\u001b[0m\n\u001b[0m\u001b[1;32m    632\u001b[0m \u001b[0;34m\u001b[0m\u001b[0m\n\u001b[1;32m    633\u001b[0m     def convert(\n",
      "\u001b[0;32m/opt/homebrew/anaconda3/lib/python3.8/site-packages/pandas/core/internals/managers.py\u001b[0m in \u001b[0;36mapply\u001b[0;34m(self, f, align_keys, ignore_failures, **kwargs)\u001b[0m\n\u001b[1;32m    425\u001b[0m                     \u001b[0mapplied\u001b[0m \u001b[0;34m=\u001b[0m \u001b[0mb\u001b[0m\u001b[0;34m.\u001b[0m\u001b[0mapply\u001b[0m\u001b[0;34m(\u001b[0m\u001b[0mf\u001b[0m\u001b[0;34m,\u001b[0m \u001b[0;34m**\u001b[0m\u001b[0mkwargs\u001b[0m\u001b[0;34m)\u001b[0m\u001b[0;34m\u001b[0m\u001b[0;34m\u001b[0m\u001b[0m\n\u001b[1;32m    426\u001b[0m                 \u001b[0;32melse\u001b[0m\u001b[0;34m:\u001b[0m\u001b[0;34m\u001b[0m\u001b[0;34m\u001b[0m\u001b[0m\n\u001b[0;32m--> 427\u001b[0;31m                     \u001b[0mapplied\u001b[0m \u001b[0;34m=\u001b[0m \u001b[0mgetattr\u001b[0m\u001b[0;34m(\u001b[0m\u001b[0mb\u001b[0m\u001b[0;34m,\u001b[0m \u001b[0mf\u001b[0m\u001b[0;34m)\u001b[0m\u001b[0;34m(\u001b[0m\u001b[0;34m**\u001b[0m\u001b[0mkwargs\u001b[0m\u001b[0;34m)\u001b[0m\u001b[0;34m\u001b[0m\u001b[0;34m\u001b[0m\u001b[0m\n\u001b[0m\u001b[1;32m    428\u001b[0m             \u001b[0;32mexcept\u001b[0m \u001b[0;34m(\u001b[0m\u001b[0mTypeError\u001b[0m\u001b[0;34m,\u001b[0m \u001b[0mNotImplementedError\u001b[0m\u001b[0;34m)\u001b[0m\u001b[0;34m:\u001b[0m\u001b[0;34m\u001b[0m\u001b[0;34m\u001b[0m\u001b[0m\n\u001b[1;32m    429\u001b[0m                 \u001b[0;32mif\u001b[0m \u001b[0;32mnot\u001b[0m \u001b[0mignore_failures\u001b[0m\u001b[0;34m:\u001b[0m\u001b[0;34m\u001b[0m\u001b[0;34m\u001b[0m\u001b[0m\n",
      "\u001b[0;32m/opt/homebrew/anaconda3/lib/python3.8/site-packages/pandas/core/internals/blocks.py\u001b[0m in \u001b[0;36mastype\u001b[0;34m(self, dtype, copy, errors)\u001b[0m\n\u001b[1;32m    671\u001b[0m             \u001b[0mvals1d\u001b[0m \u001b[0;34m=\u001b[0m \u001b[0mvalues\u001b[0m\u001b[0;34m.\u001b[0m\u001b[0mravel\u001b[0m\u001b[0;34m(\u001b[0m\u001b[0;34m)\u001b[0m\u001b[0;34m\u001b[0m\u001b[0;34m\u001b[0m\u001b[0m\n\u001b[1;32m    672\u001b[0m             \u001b[0;32mtry\u001b[0m\u001b[0;34m:\u001b[0m\u001b[0;34m\u001b[0m\u001b[0;34m\u001b[0m\u001b[0m\n\u001b[0;32m--> 673\u001b[0;31m                 \u001b[0mvalues\u001b[0m \u001b[0;34m=\u001b[0m \u001b[0mastype_nansafe\u001b[0m\u001b[0;34m(\u001b[0m\u001b[0mvals1d\u001b[0m\u001b[0;34m,\u001b[0m \u001b[0mdtype\u001b[0m\u001b[0;34m,\u001b[0m \u001b[0mcopy\u001b[0m\u001b[0;34m=\u001b[0m\u001b[0;32mTrue\u001b[0m\u001b[0;34m)\u001b[0m\u001b[0;34m\u001b[0m\u001b[0;34m\u001b[0m\u001b[0m\n\u001b[0m\u001b[1;32m    674\u001b[0m             \u001b[0;32mexcept\u001b[0m \u001b[0;34m(\u001b[0m\u001b[0mValueError\u001b[0m\u001b[0;34m,\u001b[0m \u001b[0mTypeError\u001b[0m\u001b[0;34m)\u001b[0m\u001b[0;34m:\u001b[0m\u001b[0;34m\u001b[0m\u001b[0;34m\u001b[0m\u001b[0m\n\u001b[1;32m    675\u001b[0m                 \u001b[0;31m# e.g. astype_nansafe can fail on object-dtype of strings\u001b[0m\u001b[0;34m\u001b[0m\u001b[0;34m\u001b[0m\u001b[0;34m\u001b[0m\u001b[0m\n",
      "\u001b[0;32m/opt/homebrew/anaconda3/lib/python3.8/site-packages/pandas/core/dtypes/cast.py\u001b[0m in \u001b[0;36mastype_nansafe\u001b[0;34m(arr, dtype, copy, skipna)\u001b[0m\n\u001b[1;32m   1072\u001b[0m         \u001b[0;31m# work around NumPy brokenness, #1987\u001b[0m\u001b[0;34m\u001b[0m\u001b[0;34m\u001b[0m\u001b[0;34m\u001b[0m\u001b[0m\n\u001b[1;32m   1073\u001b[0m         \u001b[0;32mif\u001b[0m \u001b[0mnp\u001b[0m\u001b[0;34m.\u001b[0m\u001b[0missubdtype\u001b[0m\u001b[0;34m(\u001b[0m\u001b[0mdtype\u001b[0m\u001b[0;34m.\u001b[0m\u001b[0mtype\u001b[0m\u001b[0;34m,\u001b[0m \u001b[0mnp\u001b[0m\u001b[0;34m.\u001b[0m\u001b[0minteger\u001b[0m\u001b[0;34m)\u001b[0m\u001b[0;34m:\u001b[0m\u001b[0;34m\u001b[0m\u001b[0;34m\u001b[0m\u001b[0m\n\u001b[0;32m-> 1074\u001b[0;31m             \u001b[0;32mreturn\u001b[0m \u001b[0mlib\u001b[0m\u001b[0;34m.\u001b[0m\u001b[0mastype_intsafe\u001b[0m\u001b[0;34m(\u001b[0m\u001b[0marr\u001b[0m\u001b[0;34m.\u001b[0m\u001b[0mravel\u001b[0m\u001b[0;34m(\u001b[0m\u001b[0;34m)\u001b[0m\u001b[0;34m,\u001b[0m \u001b[0mdtype\u001b[0m\u001b[0;34m)\u001b[0m\u001b[0;34m.\u001b[0m\u001b[0mreshape\u001b[0m\u001b[0;34m(\u001b[0m\u001b[0marr\u001b[0m\u001b[0;34m.\u001b[0m\u001b[0mshape\u001b[0m\u001b[0;34m)\u001b[0m\u001b[0;34m\u001b[0m\u001b[0;34m\u001b[0m\u001b[0m\n\u001b[0m\u001b[1;32m   1075\u001b[0m \u001b[0;34m\u001b[0m\u001b[0m\n\u001b[1;32m   1076\u001b[0m         \u001b[0;31m# if we have a datetime/timedelta array of objects\u001b[0m\u001b[0;34m\u001b[0m\u001b[0;34m\u001b[0m\u001b[0;34m\u001b[0m\u001b[0m\n",
      "\u001b[0;32mpandas/_libs/lib.pyx\u001b[0m in \u001b[0;36mpandas._libs.lib.astype_intsafe\u001b[0;34m()\u001b[0m\n",
      "\u001b[0;31mValueError\u001b[0m: invalid literal for int() with base 10: 'Younger than 5 years'"
     ]
    }
   ],
   "source": [
    "# can I simply convert the object columns to float/int using 'astype'?\n",
    "df['Age1stCode'] = df.Age1stCode.astype('int64')"
   ]
  },
  {
   "cell_type": "code",
   "execution_count": 23,
   "metadata": {},
   "outputs": [
    {
     "data": {
      "text/plain": [
       "10                    632\n",
       "20                    485\n",
       "6                     424\n",
       "8                     420\n",
       "7                     410\n",
       "5                     390\n",
       "15                    381\n",
       "12                    353\n",
       "25                    299\n",
       "9                     278\n",
       "4                     256\n",
       "11                    232\n",
       "14                    230\n",
       "13                    219\n",
       "16                    219\n",
       "30                    213\n",
       "3                     211\n",
       "18                    195\n",
       "17                    186\n",
       "22                    168\n",
       "40                    160\n",
       "35                    137\n",
       "23                    136\n",
       "21                    125\n",
       "2                     122\n",
       "19                    118\n",
       "24                    111\n",
       "26                     95\n",
       "38                     85\n",
       "27                     72\n",
       "28                     67\n",
       "37                     65\n",
       "36                     58\n",
       "32                     57\n",
       "34                     55\n",
       "29                     45\n",
       "42                     44\n",
       "1                      42\n",
       "33                     36\n",
       "45                     36\n",
       "31                     34\n",
       "43                     32\n",
       "41                     30\n",
       "39                     29\n",
       "More than 50 years     28\n",
       "44                     24\n",
       "46                     14\n",
       "Less than 1 year       14\n",
       "47                     10\n",
       "50                     10\n",
       "48                      9\n",
       "49                      7\n",
       "Name: YearsCode, dtype: int64"
      ]
     },
     "execution_count": 23,
     "metadata": {},
     "output_type": "execute_result"
    }
   ],
   "source": [
    "# We have some strings these columns preventing them to be converted to int dtypes\n",
    "df.YearsCode.value_counts()"
   ]
  },
  {
   "cell_type": "code",
   "execution_count": 24,
   "metadata": {},
   "outputs": [
    {
     "data": {
      "text/plain": [
       "12                      889\n",
       "13                      710\n",
       "15                      689\n",
       "14                      675\n",
       "10                      656\n",
       "16                      650\n",
       "18                      602\n",
       "11                      387\n",
       "17                      383\n",
       "8                       351\n",
       "19                      324\n",
       "9                       235\n",
       "20                      215\n",
       "7                       182\n",
       "21                      142\n",
       "25                      117\n",
       "22                      114\n",
       "6                       105\n",
       "23                       99\n",
       "24                       89\n",
       "26                       75\n",
       "5                        57\n",
       "27                       56\n",
       "Younger than 5 years     55\n",
       "30                       53\n",
       "28                       45\n",
       "29                       32\n",
       "31                       25\n",
       "35                       19\n",
       "33                       18\n",
       "32                       12\n",
       "34                        8\n",
       "40                        6\n",
       "36                        6\n",
       "39                        6\n",
       "41                        4\n",
       "38                        4\n",
       "50                        3\n",
       "37                        3\n",
       "47                        2\n",
       "45                        2\n",
       "42                        1\n",
       "46                        1\n",
       "Older than 85             1\n",
       "Name: Age1stCode, dtype: int64"
      ]
     },
     "execution_count": 24,
     "metadata": {},
     "output_type": "execute_result"
    }
   ],
   "source": [
    "df.Age1stCode.value_counts()"
   ]
  },
  {
   "cell_type": "code",
   "execution_count": 25,
   "metadata": {},
   "outputs": [],
   "source": [
    "# use replace function to reaplce strings with values\n",
    "\n",
    "df.replace('Younger than 5 years',4, inplace = True )\n",
    "df.replace('Older than 85', 85, inplace = True )\n",
    "\n",
    "df.replace('More than 50 years', 50, inplace = True )\n",
    "\n",
    "df.replace('Less than 1 year', 0, inplace = True )"
   ]
  },
  {
   "cell_type": "code",
   "execution_count": 26,
   "metadata": {},
   "outputs": [],
   "source": [
    "# Now we can change datatype for these columns from 'object' to 'int64'\n",
    "\n",
    "df['Age1stCode'] = df.Age1stCode.astype('int64')\n",
    "df['YearsCode'] = df.YearsCode.astype('int64')\n",
    "df['YearsCodePro'] = df.YearsCodePro.astype('int64')"
   ]
  },
  {
   "cell_type": "code",
   "execution_count": 27,
   "metadata": {},
   "outputs": [
    {
     "name": "stdout",
     "output_type": "stream",
     "text": [
      "<class 'pandas.core.frame.DataFrame'>\n",
      "Int64Index: 8108 entries, 0 to 8151\n",
      "Data columns (total 8 columns):\n",
      " #   Column        Non-Null Count  Dtype  \n",
      "---  ------        --------------  -----  \n",
      " 0   Respondent    8108 non-null   int64  \n",
      " 1   Hobbyist      8108 non-null   object \n",
      " 2   Age           7194 non-null   float64\n",
      " 3   Age1stCode    8108 non-null   int64  \n",
      " 4   Comp          8108 non-null   int64  \n",
      " 5   Gender        8108 non-null   object \n",
      " 6   YearsCode     8108 non-null   int64  \n",
      " 7   YearsCodePro  8108 non-null   int64  \n",
      "dtypes: float64(1), int64(5), object(2)\n",
      "memory usage: 570.1+ KB\n"
     ]
    }
   ],
   "source": [
    "df.info()"
   ]
  },
  {
   "cell_type": "markdown",
   "metadata": {},
   "source": [
    "I will try to impute age using other columns, but I need to split my data first"
   ]
  },
  {
   "cell_type": "code",
   "execution_count": 28,
   "metadata": {},
   "outputs": [],
   "source": [
    "# split the data in train, validate and test dataframes\n",
    "train, test = train_test_split(df,test_size=0.2, random_state=42)\n",
    "train, validate = train_test_split(train,test_size=0.25, random_state=42)"
   ]
  },
  {
   "cell_type": "code",
   "execution_count": 29,
   "metadata": {},
   "outputs": [
    {
     "data": {
      "text/plain": [
       "((4864, 8), (1622, 8), (1622, 8))"
      ]
     },
     "execution_count": 29,
     "metadata": {},
     "output_type": "execute_result"
    }
   ],
   "source": [
    "# check the shape of three dataframes\n",
    "train.shape,validate.shape, test.shape"
   ]
  },
  {
   "cell_type": "code",
   "execution_count": 30,
   "metadata": {
    "scrolled": true
   },
   "outputs": [
    {
     "data": {
      "text/plain": [
       "array([[41.,  5., 36., 20.],\n",
       "       [32., 11., 21.,  7.],\n",
       "       [37.,  7., 30., 18.],\n",
       "       ...,\n",
       "       [28., 16., 13.,  8.],\n",
       "       [25., 14., 11.,  2.],\n",
       "       [36., 12., 25., 14.]])"
      ]
     },
     "execution_count": 30,
     "metadata": {},
     "output_type": "execute_result"
    }
   ],
   "source": [
    "# use KNN imputer to find missing values for 'Age' \n",
    "from sklearn.impute import KNNImputer\n",
    "\n",
    "#Use numeric columns that you want to use for imputation\n",
    "X_numeric = train[['Age', 'Age1stCode', 'YearsCode', 'YearsCodePro']]\n",
    "\n",
    "# define the thing\n",
    "imputer = KNNImputer(n_neighbors=1)\n",
    "\n",
    "# fit the thing (or fit and use with fit_transform) only on train!\n",
    "train_imputed = imputer.fit_transform(X_numeric)\n",
    "train_imputed"
   ]
  },
  {
   "cell_type": "code",
   "execution_count": 31,
   "metadata": {},
   "outputs": [
    {
     "data": {
      "text/plain": [
       "0    0\n",
       "1    0\n",
       "2    0\n",
       "3    0\n",
       "dtype: int64"
      ]
     },
     "execution_count": 31,
     "metadata": {},
     "output_type": "execute_result"
    }
   ],
   "source": [
    "# check there is no null in imputed columns\n",
    "pd.DataFrame(train_imputed).isnull().sum()"
   ]
  },
  {
   "cell_type": "code",
   "execution_count": 32,
   "metadata": {},
   "outputs": [
    {
     "data": {
      "text/html": [
       "<div>\n",
       "<style scoped>\n",
       "    .dataframe tbody tr th:only-of-type {\n",
       "        vertical-align: middle;\n",
       "    }\n",
       "\n",
       "    .dataframe tbody tr th {\n",
       "        vertical-align: top;\n",
       "    }\n",
       "\n",
       "    .dataframe thead th {\n",
       "        text-align: right;\n",
       "    }\n",
       "</style>\n",
       "<table border=\"1\" class=\"dataframe\">\n",
       "  <thead>\n",
       "    <tr style=\"text-align: right;\">\n",
       "      <th></th>\n",
       "      <th>0</th>\n",
       "      <th>1</th>\n",
       "      <th>2</th>\n",
       "      <th>3</th>\n",
       "    </tr>\n",
       "  </thead>\n",
       "  <tbody>\n",
       "    <tr>\n",
       "      <th>1766</th>\n",
       "      <td>41.00</td>\n",
       "      <td>5.00</td>\n",
       "      <td>36.00</td>\n",
       "      <td>20.00</td>\n",
       "    </tr>\n",
       "    <tr>\n",
       "      <th>14</th>\n",
       "      <td>32.00</td>\n",
       "      <td>11.00</td>\n",
       "      <td>21.00</td>\n",
       "      <td>7.00</td>\n",
       "    </tr>\n",
       "    <tr>\n",
       "      <th>6270</th>\n",
       "      <td>37.00</td>\n",
       "      <td>7.00</td>\n",
       "      <td>30.00</td>\n",
       "      <td>18.00</td>\n",
       "    </tr>\n",
       "    <tr>\n",
       "      <th>8055</th>\n",
       "      <td>32.00</td>\n",
       "      <td>24.00</td>\n",
       "      <td>7.00</td>\n",
       "      <td>5.00</td>\n",
       "    </tr>\n",
       "    <tr>\n",
       "      <th>7801</th>\n",
       "      <td>34.00</td>\n",
       "      <td>8.00</td>\n",
       "      <td>26.00</td>\n",
       "      <td>12.00</td>\n",
       "    </tr>\n",
       "  </tbody>\n",
       "</table>\n",
       "</div>"
      ],
      "text/plain": [
       "         0     1     2     3\n",
       "1766 41.00  5.00 36.00 20.00\n",
       "14   32.00 11.00 21.00  7.00\n",
       "6270 37.00  7.00 30.00 18.00\n",
       "8055 32.00 24.00  7.00  5.00\n",
       "7801 34.00  8.00 26.00 12.00"
      ]
     },
     "execution_count": 32,
     "metadata": {},
     "output_type": "execute_result"
    }
   ],
   "source": [
    "# convert imputed array to a dataframe\n",
    "train_imputed = pd.DataFrame(train_imputed, index = train.index)\n",
    "train_imputed.head()"
   ]
  },
  {
   "cell_type": "code",
   "execution_count": 33,
   "metadata": {},
   "outputs": [],
   "source": [
    "# assign imputed values to the age column\n",
    "train['Age'] = train_imputed[[0]]"
   ]
  },
  {
   "cell_type": "code",
   "execution_count": 34,
   "metadata": {},
   "outputs": [
    {
     "name": "stdout",
     "output_type": "stream",
     "text": [
      "<class 'pandas.core.frame.DataFrame'>\n",
      "Int64Index: 4864 entries, 1766 to 593\n",
      "Data columns (total 8 columns):\n",
      " #   Column        Non-Null Count  Dtype  \n",
      "---  ------        --------------  -----  \n",
      " 0   Respondent    4864 non-null   int64  \n",
      " 1   Hobbyist      4864 non-null   object \n",
      " 2   Age           4864 non-null   float64\n",
      " 3   Age1stCode    4864 non-null   int64  \n",
      " 4   Comp          4864 non-null   int64  \n",
      " 5   Gender        4864 non-null   object \n",
      " 6   YearsCode     4864 non-null   int64  \n",
      " 7   YearsCodePro  4864 non-null   int64  \n",
      "dtypes: float64(1), int64(5), object(2)\n",
      "memory usage: 342.0+ KB\n"
     ]
    }
   ],
   "source": [
    "train.info()"
   ]
  },
  {
   "cell_type": "code",
   "execution_count": 36,
   "metadata": {},
   "outputs": [],
   "source": [
    "# do the transformation on validate and test\n",
    "validate_imputed = imputer.transform(validate[['Age', 'Age1stCode', 'YearsCode', 'YearsCodePro']])\n",
    "test_imputed = imputer.transform(test[['Age', 'Age1stCode', 'YearsCode', 'YearsCodePro']])"
   ]
  },
  {
   "cell_type": "code",
   "execution_count": 37,
   "metadata": {},
   "outputs": [],
   "source": [
    "# convert arrarys from above cell in dataframes\n",
    "validate_imputed = pd.DataFrame(validate_imputed, index = validate.index)\n",
    "test_imputed = pd.DataFrame(test_imputed, index = test.index)"
   ]
  },
  {
   "cell_type": "code",
   "execution_count": 38,
   "metadata": {},
   "outputs": [],
   "source": [
    "# assign imputed to 'Age' column for validate and test dataframes\n",
    "validate['Age'] = validate_imputed[[0]]\n",
    "test['Age'] = test_imputed[[0]]"
   ]
  },
  {
   "cell_type": "markdown",
   "metadata": {},
   "source": [
    "### Outliers\n",
    "- Data point(s) that differs significantly from other observations\n",
    "- Could be due to chance, measurement errors, transcription error, sampling error/bias,\n",
    "\n",
    "Question to ask:\n",
    "- Is the outlier part of population that I want to explore/model?"
   ]
  },
  {
   "cell_type": "code",
   "execution_count": null,
   "metadata": {},
   "outputs": [],
   "source": [
    "# plot histograms from Age and Compensation\n",
    "\n",
    "plt.figure(figsize = (12,6))\n",
    "\n",
    "plt.subplot(121)\n",
    "df.Age.hist(bins = 100)\n",
    "plt.title('Age')\n",
    "\n",
    "plt.subplot(122)\n",
    "df.Comp.hist(bins = 100)\n",
    "plt.title('Compensation')"
   ]
  },
  {
   "cell_type": "code",
   "execution_count": null,
   "metadata": {},
   "outputs": [],
   "source": [
    "# Boxplot for Age and Compensation\n",
    "\n",
    "plt.figure(figsize = (12,6))\n",
    "\n",
    "plt.subplot(121)\n",
    "sns.boxplot(y = 'Age', data = df, whis = 3)\n",
    "plt.title('Age')\n",
    "\n",
    "plt.subplot(122)\n",
    "plt.title('Compensation')\n",
    "sns.boxplot(y = 'Comp', data = df, whis = 3)\n"
   ]
  },
  {
   "cell_type": "markdown",
   "metadata": {},
   "source": [
    "### Handling Outliers:\n",
    "- Use domain knowledge/business rules to have cut-offs\n",
    "- Use IQR method to exclude outliers\n",
    "- Cap/Trim max value \n",
    "- transformation\n",
    "- Impute new value (if you know outlier is a mistake)"
   ]
  },
  {
   "cell_type": "code",
   "execution_count": null,
   "metadata": {},
   "outputs": [],
   "source": [
    "# Calculate q1, q3 and iqr for Age\n",
    "\n",
    "q1 = df.Age.quantile(0.25)\n",
    "q3 = df.Age.quantile(0.75)\n",
    "iqr = q3 - q1\n",
    "k = 3\n",
    "\n",
    "# calculate upper and lower ranges\n",
    "upper_bound_Age =  q3 + k * iqr\n",
    "lower_bound_Age =  q1 - k * iqr"
   ]
  },
  {
   "cell_type": "code",
   "execution_count": null,
   "metadata": {},
   "outputs": [],
   "source": [
    "# Calculate q1, q3 and iqr for Comp\n",
    "\n",
    "\n",
    "q1 = df.Comp.quantile(0.25)\n",
    "q3 = df.Comp.quantile(0.75)\n",
    "iqr = q3 - q1\n",
    "k = 3\n",
    "\n",
    "# calculate upper and lower ranges\n",
    "upper_bound_Comp = q3 + k * iqr\n",
    "lower_bound_Comp = q1 - k * iqr"
   ]
  },
  {
   "cell_type": "code",
   "execution_count": null,
   "metadata": {},
   "outputs": [],
   "source": [
    "# Filter dataframe using multiple conditions\n",
    "\n",
    "df[(df.Age < upper_bound_Age) & (df.Comp < upper_bound_Comp)]"
   ]
  },
  {
   "cell_type": "code",
   "execution_count": null,
   "metadata": {},
   "outputs": [],
   "source": [
    "# Cap the limit\n",
    "\n",
    "# df['column'] = np.where(this_is_true(?), do_this, else_do_that)\n",
    "\n",
    "df.Comp_capped = np.where(df.Comp > 1_000_000, df.Comp == 1_000_000, df.Comp)"
   ]
  },
  {
   "cell_type": "code",
   "execution_count": null,
   "metadata": {},
   "outputs": [],
   "source": []
  }
 ],
 "metadata": {
  "kernelspec": {
   "display_name": "Python 3",
   "language": "python",
   "name": "python3"
  },
  "language_info": {
   "codemirror_mode": {
    "name": "ipython",
    "version": 3
   },
   "file_extension": ".py",
   "mimetype": "text/x-python",
   "name": "python",
   "nbconvert_exporter": "python",
   "pygments_lexer": "ipython3",
   "version": "3.8.8"
  }
 },
 "nbformat": 4,
 "nbformat_minor": 4
}
